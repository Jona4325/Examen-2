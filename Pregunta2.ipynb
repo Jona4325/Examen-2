{
 "cells": [
  {
   "cell_type": "markdown",
   "id": "6361581a-5683-4369-8728-a9e50b944fef",
   "metadata": {},
   "source": [
    "# P2\n",
    "# Nombre: Jonathan Paredes"
   ]
  },
  {
   "cell_type": "code",
   "execution_count": 8,
   "id": "12f62b7b-377a-4f80-91cf-e7c935ff9c12",
   "metadata": {},
   "outputs": [
    {
     "name": "stdout",
     "output_type": "stream",
     "text": [
      "Collecting scipy\n",
      "  Downloading scipy-1.15.1-cp310-cp310-manylinux_2_17_x86_64.manylinux2014_x86_64.whl.metadata (61 kB)\n",
      "\u001b[2K     \u001b[90m━━━━━━━━━━━━━━━━━━━━━━━━━━━━━━━━━━━━━━━━\u001b[0m \u001b[32m62.0/62.0 kB\u001b[0m \u001b[31m1.4 MB/s\u001b[0m eta \u001b[36m0:00:00\u001b[0m\n",
      "\u001b[?25hRequirement already satisfied: numpy<2.5,>=1.23.5 in /home/paredesj-epn/miniforge3/lib/python3.10/site-packages (from scipy) (2.2.2)\n",
      "Downloading scipy-1.15.1-cp310-cp310-manylinux_2_17_x86_64.manylinux2014_x86_64.whl (40.6 MB)\n",
      "\u001b[2K   \u001b[90m━━━━━━━━━━━━━━━━━━━━━━━━━━━━━━━━━━━━━━━━\u001b[0m \u001b[32m40.6/40.6 MB\u001b[0m \u001b[31m6.8 MB/s\u001b[0m eta \u001b[36m0:00:00\u001b[0m00:01\u001b[0m00:01\u001b[0m\n",
      "\u001b[?25hInstalling collected packages: scipy\n",
      "Successfully installed scipy-1.15.1\n"
     ]
    }
   ],
   "source": [
    "!pip install scipy\n"
   ]
  },
  {
   "cell_type": "code",
   "execution_count": 11,
   "id": "473c5131-7db7-43f5-ba8d-4300e2e7d5d7",
   "metadata": {},
   "outputs": [
    {
     "name": "stdout",
     "output_type": "stream",
     "text": [
      "Las raíces del polinomio son: [np.float64(-2.0), np.float64(1.0), np.float64(5.0)]\n"
     ]
    }
   ],
   "source": [
    "from scipy import optimize\n",
    "\n",
    "def f(x):\n",
    "    return (x**5 - 6*x**4 + 2*x**3 + 20*x**2 - 27*x + 10)\n",
    "\n",
    "initial_guesses = [-10, -5, -2, -1, 0, 1, 2, 5, 10]\n",
    "root = optimize.fsolve(f, initial_guesses)\n",
    "unica_solucion = sorted(set(round(root, 5) for root in root))\n",
    "print(\"Las raíces del polinomio son:\", unica_solucion)"
   ]
  }
 ],
 "metadata": {
  "kernelspec": {
   "display_name": "Python 3 (ipykernel)",
   "language": "python",
   "name": "python3"
  },
  "language_info": {
   "codemirror_mode": {
    "name": "ipython",
    "version": 3
   },
   "file_extension": ".py",
   "mimetype": "text/x-python",
   "name": "python",
   "nbconvert_exporter": "python",
   "pygments_lexer": "ipython3",
   "version": "3.10.14"
  }
 },
 "nbformat": 4,
 "nbformat_minor": 5
}
